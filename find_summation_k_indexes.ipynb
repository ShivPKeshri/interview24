{
 "cells": [
  {
   "cell_type": "code",
   "execution_count": 1,
   "metadata": {},
   "outputs": [],
   "source": [
    "# Find the indexes of elements which is summation k of possible 2 elements from a numeric elements list\n",
    "# INPUT : nums = [2,3,4,3,5,8,1], k = 6\n",
    "# OUTPUT: [[0,2], [1,3], [4,6]]"
   ]
  },
  {
   "cell_type": "code",
   "execution_count": 2,
   "metadata": {},
   "outputs": [
    {
     "data": {
      "text/plain": [
       "[[0, 2], [1, 3], [4, 6]]"
      ]
     },
     "execution_count": 2,
     "metadata": {},
     "output_type": "execute_result"
    }
   ],
   "source": [
    "def find_summation_k_indexes(l, k):\n",
    "    visited = {}\n",
    "    indexes = []\n",
    "    for inx, e in enumerate(l):\n",
    "        t = k - e\n",
    "        if t in visited:\n",
    "            indexes.append([visited[t],inx])\n",
    "        else:\n",
    "            visited[e] = inx\n",
    "    return indexes\n",
    "\n",
    "nums = [2,3,4,3,5,8,1]\n",
    "find_summation_k_indexes(nums, 6)"
   ]
  }
 ],
 "metadata": {
  "kernelspec": {
   "display_name": "env312",
   "language": "python",
   "name": "python3"
  },
  "language_info": {
   "codemirror_mode": {
    "name": "ipython",
    "version": 3
   },
   "file_extension": ".py",
   "mimetype": "text/x-python",
   "name": "python",
   "nbconvert_exporter": "python",
   "pygments_lexer": "ipython3",
   "version": "3.12.3"
  }
 },
 "nbformat": 4,
 "nbformat_minor": 2
}
