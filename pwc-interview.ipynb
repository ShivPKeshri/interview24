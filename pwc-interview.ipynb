{
 "cells": [
  {
   "cell_type": "markdown",
   "metadata": {},
   "source": [
    "Interview: PwC: 20 June, 24\n",
    "First round was good.\n",
    "\n",
    "Asked some project related questions, python logic as mentioned below and one logic"
   ]
  },
  {
   "cell_type": "code",
   "execution_count": 19,
   "metadata": {},
   "outputs": [
    {
     "name": "stdout",
     "output_type": "stream",
     "text": [
      "2 a prime number and sqrt of its : 1.4142135623730951\n",
      "7 a prime number and sqrt of its : 2.6457513110645907\n",
      "15 is not a prime number\n"
     ]
    }
   ],
   "source": [
    "import math\n",
    "class Complutation:\n",
    "\n",
    "    def __init__(self, value):\n",
    "        self.value = value\n",
    "    \n",
    "    def prime_check(self):\n",
    "        for div in range(2, self.value):\n",
    "            if self.value % div == 0:\n",
    "                return f\"{self.value} is not a prime number\"\n",
    "        return  f\"{self.value} a prime number and sqrt of its : {self.sqrt()}\" \n",
    "        \n",
    "    def sqrt(self):\n",
    "        return math.sqrt(self.value)\n",
    "\n",
    "a = Complutation(2)\n",
    "print(a.prime_check())\n",
    "b = Complutation(7)\n",
    "print(b.prime_check())\n",
    "b = Complutation(15)\n",
    "print(b.prime_check())\n"
   ]
  },
  {
   "cell_type": "code",
   "execution_count": 13,
   "metadata": {},
   "outputs": [
    {
     "data": {
      "text/plain": [
       "4"
      ]
     },
     "execution_count": 13,
     "metadata": {},
     "output_type": "execute_result"
    }
   ],
   "source": [
    "input = [1,2,3,4,5,4,3,2]\n",
    "\n",
    "def find_first_duplicate(input):\n",
    "    counter = set()\n",
    "    for e in input:\n",
    "        if e in counter:\n",
    "            return e\n",
    "        counter.add(e)\n",
    "\n",
    "find_first_duplicate(input)"
   ]
  },
  {
   "cell_type": "markdown",
   "metadata": {},
   "source": [
    "Asked on logical question regarding race in 100 meters trace\n",
    "Race between A and B and A wins by 10 m\n",
    "Race between B and C and B wins by 10 m\n",
    "\n",
    "if the race between A and C, who will wins the race and by how many meters\n",
    "\n",
    "\n",
    "Solution:\n",
    "In the race between A and B, when A finishes 100 meters, B runs 90 meters.\n",
    "In the race between B and C, when B runs 90 meters, C runs 90% of that distance (because B wins by 10 meters in a 100-meter race).\n",
    "So, when B runs 90 meters, C runs 90 × 0.9 = 81 meters\n",
    "\n",
    "A will win the race against C by 19 meters."
   ]
  },
  {
   "cell_type": "markdown",
   "metadata": {},
   "source": [
    "## First round is cleared and second round is on Mon-24 Jun, 2024"
   ]
  },
  {
   "cell_type": "markdown",
   "metadata": {},
   "source": [
    "1. Asked about the Introduction and skills, python libraries\n",
    "2. Request Responce cycle\n",
    "3. Dict vs map (not map function)\n",
    "4. lambda function"
   ]
  },
  {
   "cell_type": "code",
   "execution_count": 1,
   "metadata": {},
   "outputs": [],
   "source": [
    "# programming question : get the data from q1 set and q2 in set and merge\n",
    "import pandas as pd\n",
    "\n",
    "data = {\n",
    "    \"a\": [1, 4], \n",
    "    \"b\": [2, 5],\n",
    "    \"c\":[ 3, 6]\n",
    "}\n",
    "\n",
    "q1_data = pd.DataFrame(data=data)\n",
    "\n",
    "q2_data =  {\n",
    "    \"a\": [11, 4, 7], \n",
    "    \"b\": [12, 5, 3],\n",
    "    \"c\":[ 3, 6, 8],\n",
    "    \"d\": [1, 7,5],\n",
    "    \"e\": [8, 9,4]\n",
    "}\n",
    "\n",
    "q2_data = pd.DataFrame(q2_data) \n",
    "\n",
    "diff_columns = q2_data.columns.difference(q1_data.columns)\n",
    "\n",
    "for col in diff_columns:\n",
    "    q1_data[col] = q2_data[col]\n"
   ]
  },
  {
   "cell_type": "code",
   "execution_count": null,
   "metadata": {},
   "outputs": [],
   "source": [
    "import pandas as pd\n",
    "\n",
    "data = {\n",
    "    \"a\": [1, 4], \n",
    "    \"b\": [2, 5],\n",
    "    \"c\":[ 3, 6]\n",
    "}\n",
    "\n",
    "q1_data = pd.DataFrame(data=data)\n",
    "\n",
    "q2_data =  {\n",
    "    \"a\": [11, 4, 7], \n",
    "    \"b\": [12, 5, 3],\n",
    "    \"c\":[ 3, 6, 8],\n",
    "    \"d\": [1, 7,5],\n",
    "    \"e\": [8, 9,4]\n",
    "}\n",
    "\n",
    "q2_data = pd.DataFrame(q2_data)\n",
    "\n",
    "p = pd.concat([q1_data, q2_data])"
   ]
  }
 ],
 "metadata": {
  "kernelspec": {
   "display_name": "env312",
   "language": "python",
   "name": "python3"
  },
  "language_info": {
   "codemirror_mode": {
    "name": "ipython",
    "version": 3
   },
   "file_extension": ".py",
   "mimetype": "text/x-python",
   "name": "python",
   "nbconvert_exporter": "python",
   "pygments_lexer": "ipython3",
   "version": "3.12.3"
  }
 },
 "nbformat": 4,
 "nbformat_minor": 2
}
