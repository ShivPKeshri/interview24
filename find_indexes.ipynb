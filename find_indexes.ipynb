{
 "cells": [
  {
   "cell_type": "code",
   "execution_count": 1,
   "metadata": {},
   "outputs": [],
   "source": [
    "# find the continuos start and end indexes of given target k in a given list\n",
    "# if have only one occurrence of k or no occurrence return [-1, -1]\n",
    "# Input: l = [\"a\", \"b\", \"c\", \"c\", \"c\", \"d\"], k = \"c\"\n",
    "# Output : [2,4]"
   ]
  },
  {
   "cell_type": "code",
   "execution_count": 2,
   "metadata": {},
   "outputs": [
    {
     "data": {
      "text/plain": [
       "[2, 4]"
      ]
     },
     "execution_count": 2,
     "metadata": {},
     "output_type": "execute_result"
    }
   ],
   "source": [
    "def find_indexes(l, k):\n",
    "    start = end = -1\n",
    "\n",
    "    for inx, e in enumerate(l):\n",
    "        if e == k:\n",
    "            if start == -1:\n",
    "                start = end = inx\n",
    "            end = inx \n",
    "        elif start != -1 :\n",
    "            break\n",
    "    if start == end:\n",
    "        return [-1, -1]\n",
    "    return [start, end]\n",
    "\n",
    "\n",
    "l = [\"a\", \"b\", \"c\", \"c\", \"c\", \"d\"]\n",
    "find_indexes(l, \"c\")"
   ]
  },
  {
   "cell_type": "code",
   "execution_count": 3,
   "metadata": {},
   "outputs": [
    {
     "data": {
      "text/plain": [
       "[-1, -1]"
      ]
     },
     "execution_count": 3,
     "metadata": {},
     "output_type": "execute_result"
    }
   ],
   "source": [
    "find_indexes(l, \"a\")"
   ]
  },
  {
   "cell_type": "code",
   "execution_count": 4,
   "metadata": {},
   "outputs": [
    {
     "data": {
      "text/plain": [
       "[-1, -1]"
      ]
     },
     "execution_count": 4,
     "metadata": {},
     "output_type": "execute_result"
    }
   ],
   "source": [
    "find_indexes([\"a\", \"b\", \"c\", \"e\", \"c\", \"d\"], \"e\")"
   ]
  }
 ],
 "metadata": {
  "kernelspec": {
   "display_name": "env312",
   "language": "python",
   "name": "python3"
  },
  "language_info": {
   "codemirror_mode": {
    "name": "ipython",
    "version": 3
   },
   "file_extension": ".py",
   "mimetype": "text/x-python",
   "name": "python",
   "nbconvert_exporter": "python",
   "pygments_lexer": "ipython3",
   "version": "3.12.3"
  }
 },
 "nbformat": 4,
 "nbformat_minor": 2
}
